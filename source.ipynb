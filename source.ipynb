{
 "cells": [
  {
   "cell_type": "code",
   "execution_count": 45,
   "metadata": {
    "collapsed": false
   },
   "outputs": [
    {
     "name": "stdout",
     "output_type": "stream",
     "text": [
      "1.48803623191 cm\n"
     ]
    }
   ],
   "source": [
    "from __future__ import division\n",
    "import numpy as np\n",
    "\n",
    "xcom = np.transpose(np.vstack([np.array(map(float, line.split())) for line in open('xcom.txt')]))#for air\n",
    "\n",
    "class Source(object):\n",
    "    \"\"\"Gamma Source\n",
    "    \n",
    "    Attributes\n",
    "    ----------\n",
    "    E: a list of energies in units of Mev\n",
    "    BR: a list branching ratios in absolute fraction\n",
    "    A:  Activity in units of Bq\n",
    "    r: position in units of cm\n",
    "    \"\"\"\n",
    "    mu_en = lambda energy: np.interp(energy,xcom[0],xcom[2])\n",
    "\n",
    "    def __init__(self,E,BR,A):\n",
    "        self.E=E\n",
    "        self.BR=BR\n",
    "        self.A=A\n",
    "    \n",
    "    def XR_from_r(self,r):\n",
    "            XR=np.array([1.835*10**-8*i*mu_en(i)*((j*self.A)/(4*np.pi*r**2)) for i in self.E for j in self.BR])\n",
    "            XR=1000*3600*sum(XR)\n",
    "            return str(XR) + \" \" + \"mR/h\"\n",
    "    \n",
    "    def r_from_XR(self,XR):\n",
    "        \"\"\"XR: exposure rate in units of mR/h\"\"\"\n",
    "            XR=XR/1000\n",
    "            r=np.sqrt((1.835*10**-8*np.mean(self.E)*mu_en(np.mean(self.E))*np.mean(self.BR)*self.A/((XR/3600)*4*np.pi)))\n",
    "            return str(r) + \" \" + \"cm\"\n",
    "    \n",
    "    \n",
    "def Activity(m,d,y,T,A_0):\n",
    "    Lambda=np.log(2)/T\n",
    "    reference=dt.datetime(y,m,d)\n",
    "    today=dt.datetime.now()\n",
    "    difference=dt.datetime(today.year,today.month,today.day)-reference\n",
    "    activity=A_0*np.exp(-Lambda*difference.total_seconds())\n",
    "\n",
    "        \n",
    "        \n",
    "        \n",
    "print Source([0.662],[0.87],3.7*10**10*(67.5*10**-3)).r_from_XR(100)\n",
    "        \n"
   ]
  },
  {
   "cell_type": "code",
   "execution_count": null,
   "metadata": {
    "collapsed": true
   },
   "outputs": [],
   "source": []
  }
 ],
 "metadata": {
  "kernelspec": {
   "display_name": "Python 2.7",
   "language": "python",
   "name": "python2.7"
  },
  "language_info": {
   "codemirror_mode": {
    "name": "ipython",
    "version": 2
   },
   "file_extension": ".py",
   "mimetype": "text/x-python",
   "name": "python",
   "nbconvert_exporter": "python",
   "pygments_lexer": "ipython2",
   "version": "2.7.6"
  }
 },
 "nbformat": 4,
 "nbformat_minor": 0
}
